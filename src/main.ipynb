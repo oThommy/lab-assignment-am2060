{
 "cells": [
  {
   "cell_type": "code",
   "execution_count": null,
   "metadata": {},
   "outputs": [],
   "source": [
    "import pandas as pd\n",
    "import numpy as np\n",
    "from scipy.linalg import lu_factor, lu_solve\n",
    "from scipy.optimize import fsolve\n",
    "from numpy.typing import NDArray\n",
    "import matplotlib.pyplot as plt\n",
    "from tqdm import tqdm\n",
    "from src.utils import is_divisible_by, assert_is_positive, display_df\n",
    "import src.config as config"
   ]
  },
  {
   "cell_type": "markdown",
   "metadata": {},
   "source": [
    "# (a)"
   ]
  },
  {
   "cell_type": "code",
   "execution_count": null,
   "metadata": {},
   "outputs": [],
   "source": [
    "def c_stat(y: NDArray[np.float64]) -> NDArray[np.float64]:\n",
    "    return np.cosh(4 * y) / np.cosh(4)\n",
    "\n",
    "y = np.linspace(0, 1, 100)\n",
    "\n",
    "plt.plot(y, c_stat(y), label='$c_{\\\\text{stat}}(y) = \\\\frac{\\\\cosh(4y)}{\\\\cosh(4)}$')\n",
    "plt.axhline(0.1, color='r', linestyle='--', label='$c(y) = 0.1$')\n",
    "plt.xlabel('$y$')\n",
    "plt.ylabel('$c(y)$')\n",
    "plt.legend()\n",
    "plt.grid(True)\n",
    "plt.tight_layout()\n",
    "plt.savefig(config.FIGURES_DIR / 'ex_a_stationary_solution.svg')\n",
    "plt.show()"
   ]
  },
  {
   "cell_type": "code",
   "execution_count": null,
   "metadata": {},
   "outputs": [],
   "source": [
    "y_solution = fsolve(lambda y: c_stat(y) - 0.1, 0.4)\n",
    "y_solution[0]"
   ]
  },
  {
   "cell_type": "markdown",
   "metadata": {},
   "source": [
    "# (g)"
   ]
  },
  {
   "cell_type": "code",
   "execution_count": null,
   "metadata": {},
   "outputs": [],
   "source": [
    "def create_matrix_A(*, n: int, v: float, dy: float, beta: float):\n",
    "    factor1 = -1 / (v * (dy**2))\n",
    "    factor2 = -beta**2 / v\n",
    "\n",
    "    main_diag = 2 * np.ones(n + 1)\n",
    "    off_diag = -1 * np.ones(n)\n",
    "    \n",
    "    matrix1 = np.diag(main_diag) + np.diag(off_diag, k=1) + np.diag(off_diag, k=-1)\n",
    "    matrix1[0, 1] = -2 # Neumann boundary condition at y=0\n",
    "    matrix2 = np.eye(n + 1)\n",
    "\n",
    "    A = factor1 * matrix1 + factor2 * matrix2\n",
    "    return A\n",
    "\n",
    "def create_r(*, n: int, dy: float):\n",
    "    r = np.zeros(n + 1) # r is a constant as it does not depend on x\n",
    "    r[-1] = 1 / dy**2 # Dirichlet boundary condition at y=1\n",
    "    return r\n",
    "\n",
    "def create_u_0(*, n: int):\n",
    "    '''\n",
    "    Creates an initial concentration array `u_0` for x=0 as defined by the \n",
    "    Dirichlet boundary condition at x=0.\n",
    "\n",
    "    The array `u_0` represents the concentration values at x=0 as a function of y.\n",
    "    It includes the concentrations at y_0, y_1, ..., y_n but omits y_{n+1}.\n",
    "\n",
    "    So, `u_0` = [c(0, y_0), c(0, y_1), ..., c(0, y_n)].\n",
    "    '''\n",
    "    return np.zeros(n + 1)\n",
    "\n",
    "def get_alpha(*, w: NDArray[np.float64], dy: float):\n",
    "    return (w[-3] - 4 * w[-2] + 3 * w[-1]) / (2 * dy)"
   ]
  },
  {
   "cell_type": "code",
   "execution_count": null,
   "metadata": {},
   "outputs": [],
   "source": [
    "v = 1\n",
    "beta = 4\n",
    "dy = 0.05\n",
    "dx = 0.02 # tau\n",
    "theta = 3/4\n",
    "x_lst = dx * np.array([5, 10, 15, 20, 25])\n",
    "\n",
    "# Verify constants\n",
    "assert_is_positive(v, 'v')\n",
    "assert_is_positive(dy, 'dy')\n",
    "assert is_divisible_by(1, dy), 'dy must divide 1.'\n",
    "assert_is_positive(dx, 'dx')\n",
    "assert 0 <= theta <= 1, 'theta must be in [0,1].'\n",
    "assert all(is_divisible_by(x, dx) for x in x_lst), 'All x values must be divisible by dx.'\n",
    "assert all(x >= 0 for x in x_lst), 'All x values must be nonnegative.'\n",
    "\n",
    "N = int(1 / dy) - 1\n",
    "num_steps = int(sorted(x_lst)[-1] / dx)\n",
    "y = np.linspace(0, 1, N + 2, dtype=np.float64)"
   ]
  },
  {
   "cell_type": "code",
   "execution_count": null,
   "metadata": {},
   "outputs": [],
   "source": [
    "A = create_matrix_A(n=N, v=v, dy=dy, beta=beta)\n",
    "r = create_r(n=N, dy=dy)\n",
    "\n",
    "I = np.eye(N + 1)\n",
    "matrix = I - theta * dx * A\n",
    "lu, piv = lu_factor(matrix)\n",
    "def theta_method(\n",
    "    *,\n",
    "    u_n: NDArray[np.float64],\n",
    "    A: NDArray[np.float64],\n",
    "    r: NDArray[np.float64],\n",
    "    dx: float,\n",
    "    theta: float,\n",
    ") -> NDArray[np.float64]:\n",
    "    b = u_n + dx * (1 - theta) * (A @ u_n + r) + dx * theta * r\n",
    "    u_next = lu_solve((lu, piv), b)\n",
    "    return u_next\n",
    "\n",
    "u = np.empty(\n",
    "    shape=num_steps + 1, # +1 to include u_0\n",
    "    dtype=[('x', np.float64), ('c_y', np.float64, (N + 2,))]\n",
    ")\n",
    "u_0_numerical = create_u_0(n=N)\n",
    "u_0_full = np.append(u_0_numerical, 1) # Append 1 to include c(0, 1) = 1 Dirichlet boundary condition\n",
    "u[0] = (0, u_0_full)\n",
    "c_y_numerical = u_0_numerical\n",
    "\n",
    "for n in tqdm(range(num_steps)):\n",
    "    x = (n + 1) * dx\n",
    "    c_y_numerical = theta_method(u_n=c_y_numerical, A=A, r=r, dx=dx, theta=theta)\n",
    "    c_y_full = np.append(c_y_numerical, 1)\n",
    "    u[n + 1] = (x, c_y_full)\n",
    "\n",
    "for x in x_lst:\n",
    "    c_y = u[u['x'] == x]['c_y'][0]\n",
    "    plt.plot(y, c_y, label=f'$x = {x:.2f}$')\n",
    "\n",
    "plt.xlabel('$y$')\n",
    "plt.ylabel('$c(y)$')\n",
    "plt.legend()\n",
    "plt.grid(True)\n",
    "plt.tight_layout()\n",
    "plt.savefig(config.FIGURES_DIR / 'ex_g_numerical_solution_c.svg')\n",
    "plt.show()"
   ]
  },
  {
   "cell_type": "code",
   "execution_count": null,
   "metadata": {},
   "outputs": [],
   "source": [
    "alpha_values = pd.DataFrame({'n': [5, 10, 15, 20, 25], 'alpha': [get_alpha(w=u[n]['c_y'], dy=dy) for n in [5, 10, 15, 20, 25]]})\n",
    "display_df(alpha_values)"
   ]
  },
  {
   "cell_type": "code",
   "execution_count": null,
   "metadata": {},
   "outputs": [],
   "source": [
    "4 * np.sinh(4 * 1) / np.cosh(4)"
   ]
  },
  {
   "cell_type": "markdown",
   "metadata": {},
   "source": [
    "# (h)"
   ]
  },
  {
   "cell_type": "code",
   "execution_count": null,
   "metadata": {},
   "outputs": [],
   "source": [
    "v = 1\n",
    "beta = 4\n",
    "dy = 0.05\n",
    "dx = 0.02 # tau\n",
    "theta = 1/2\n",
    "x_lst = dx * np.array([5, 10, 15, 20, 25])\n",
    "\n",
    "# Verify constants\n",
    "assert_is_positive(v, 'v')\n",
    "assert_is_positive(dy, 'dy')\n",
    "assert is_divisible_by(1, dy), 'dy must divide 1.'\n",
    "assert_is_positive(dx, 'dx')\n",
    "assert 0 <= theta <= 1, 'theta must be in [0,1].'\n",
    "assert all(is_divisible_by(x, dx) for x in x_lst), 'All x values must be divisible by dx.'\n",
    "assert all(x >= 0 for x in x_lst), 'All x values must be nonnegative.'\n",
    "\n",
    "N = int(1 / dy) - 1\n",
    "num_steps = int(sorted(x_lst)[-1] / dx)\n",
    "y = np.linspace(0, 1, N + 2, dtype=np.float64)"
   ]
  },
  {
   "cell_type": "code",
   "execution_count": null,
   "metadata": {},
   "outputs": [],
   "source": [
    "A = create_matrix_A(n=N, v=v, dy=dy, beta=beta)\n",
    "r = create_r(n=N, dy=dy)\n",
    "\n",
    "I = np.eye(N + 1)\n",
    "matrix = I - theta * dx * A\n",
    "lu, piv = lu_factor(matrix)\n",
    "def theta_method(\n",
    "    *,\n",
    "    u_n: NDArray[np.float64],\n",
    "    A: NDArray[np.float64],\n",
    "    r: NDArray[np.float64],\n",
    "    dx: float,\n",
    "    theta: float,\n",
    ") -> NDArray[np.float64]:\n",
    "    b = u_n + dx * (1 - theta) * (A @ u_n + r) + dx * theta * r\n",
    "    u_next = lu_solve((lu, piv), b)\n",
    "    return u_next\n",
    "\n",
    "u = np.empty(\n",
    "    shape=num_steps + 1, # +1 to include u_0\n",
    "    dtype=[('x', np.float64), ('c_y', np.float64, (N + 2,))]\n",
    ")\n",
    "u_0_numerical = create_u_0(n=N)\n",
    "u_0_full = np.append(u_0_numerical, 1) # Append 1 to include c(0, 1) = 1 Dirichlet boundary condition\n",
    "u[0] = (0, u_0_full)\n",
    "c_y_numerical = u_0_numerical\n",
    "\n",
    "for n in tqdm(range(num_steps)):\n",
    "    x = (n + 1) * dx\n",
    "    c_y_numerical = theta_method(u_n=c_y_numerical, A=A, r=r, dx=dx, theta=theta)\n",
    "    c_y_full = np.append(c_y_numerical, 1)\n",
    "    u[n + 1] = (x, c_y_full)\n",
    "\n",
    "for x in x_lst:\n",
    "    c_y = u[u['x'] == x]['c_y'][0]\n",
    "    plt.plot(y, c_y, label=f'$x = {x:.2f}$')\n",
    "\n",
    "plt.xlabel('$y$')\n",
    "plt.ylabel('$c(y)$')\n",
    "plt.legend()\n",
    "plt.grid(True)\n",
    "plt.tight_layout()\n",
    "plt.savefig(config.FIGURES_DIR / 'ex_h_numerical_solution_c.svg')\n",
    "plt.show()"
   ]
  },
  {
   "cell_type": "code",
   "execution_count": null,
   "metadata": {},
   "outputs": [],
   "source": [
    "alpha_values = pd.DataFrame({'n': [5, 10, 15, 20, 25], 'alpha': [get_alpha(w=u[n]['c_y'], dy=dy) for n in [5, 10, 15, 20, 25]]})\n",
    "display_df(alpha_values)"
   ]
  }
 ],
 "metadata": {
  "kernelspec": {
   "display_name": ".venv",
   "language": "python",
   "name": "python3"
  },
  "language_info": {
   "codemirror_mode": {
    "name": "ipython",
    "version": 3
   },
   "file_extension": ".py",
   "mimetype": "text/x-python",
   "name": "python",
   "nbconvert_exporter": "python",
   "pygments_lexer": "ipython3",
   "version": "3.12.3"
  }
 },
 "nbformat": 4,
 "nbformat_minor": 2
}
