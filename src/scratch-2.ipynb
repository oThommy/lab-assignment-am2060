{
 "cells": [
  {
   "cell_type": "code",
   "execution_count": 2,
   "metadata": {},
   "outputs": [],
   "source": [
    "import numpy as np\n",
    "import matplotlib.pyplot as plt\n",
    "from numpy.typing import NDArray"
   ]
  },
  {
   "cell_type": "code",
   "execution_count": 4,
   "metadata": {},
   "outputs": [
    {
     "name": "stdout",
     "output_type": "stream",
     "text": [
      "[[-816.   -2.   -0.]\n",
      " [ 400. -816.  400.]\n",
      " [  -0.  400. -816.]]\n"
     ]
    },
    {
     "ename": "NameError",
     "evalue": "name 'tau' is not defined",
     "output_type": "error",
     "traceback": [
      "\u001b[1;31m---------------------------------------------------------------------------\u001b[0m",
      "\u001b[1;31mNameError\u001b[0m                                 Traceback (most recent call last)",
      "Cell \u001b[1;32mIn[4], line 65\u001b[0m\n\u001b[0;32m     62\u001b[0m \u001b[38;5;66;03m# A\u001b[39;00m\n\u001b[0;32m     63\u001b[0m A \u001b[38;5;241m=\u001b[39m K \u001b[38;5;241m+\u001b[39m M\n\u001b[1;32m---> 65\u001b[0m \u001b[38;5;28;01mdef\u001b[39;00m \u001b[38;5;21mtheta_method\u001b[39m(c, A \u001b[38;5;241m=\u001b[39m A, r \u001b[38;5;241m=\u001b[39m r, tau \u001b[38;5;241m=\u001b[39m \u001b[43mtau\u001b[49m, theta \u001b[38;5;241m=\u001b[39m theta):\n\u001b[0;32m     66\u001b[0m     I \u001b[38;5;241m=\u001b[39m np\u001b[38;5;241m.\u001b[39meye(n_y)\n\u001b[0;32m     67\u001b[0m     c_next \u001b[38;5;241m=\u001b[39m np\u001b[38;5;241m.\u001b[39mlinalg\u001b[38;5;241m.\u001b[39msolve((I\u001b[38;5;241m-\u001b[39m tau \u001b[38;5;241m*\u001b[39m theta \u001b[38;5;241m*\u001b[39mA), c \u001b[38;5;241m+\u001b[39m tau\u001b[38;5;241m*\u001b[39m ( (\u001b[38;5;241m1\u001b[39m \u001b[38;5;241m-\u001b[39m theta)\u001b[38;5;241m*\u001b[39m(A\u001b[38;5;129m@c\u001b[39m\u001b[38;5;241m+\u001b[39mr) \u001b[38;5;241m+\u001b[39m theta \u001b[38;5;241m*\u001b[39m r))\n",
      "\u001b[1;31mNameError\u001b[0m: name 'tau' is not defined"
     ]
    }
   ],
   "source": [
    "v = 1\n",
    "beta = 4\n",
    "dy = 0.05\n",
    "dx = 0.02 # tau\n",
    "theta = 3/4\n",
    "#TODO: klopt dit?\n",
    "n = int(1 / dy - 1) # FIXME: moet error geven voor float\n",
    "x_lst: NDArray[np.floating] = dx * np.array([5, 10, 15, 20, 25]) #FIXME: moet int arr zijn, hangt af van dx, geef anders error\n",
    "num_iterations = x_lst[-1] // dx\n",
    "x = x_lst[0]\n",
    "\n",
    "\n",
    "def create_matrix_A(*, n: int = n, v: float = v, dy: float = dy, beta: float = beta):\n",
    "    factor1 = -1 / (v * (dy**2))\n",
    "    factor2 = -beta**2 / v\n",
    "\n",
    "    main_diag = 2 * np.ones(n + 1)\n",
    "    off_diag = -1 * np.ones(n)\n",
    "    \n",
    "    matrix1 = np.diag(main_diag) + np.diag(off_diag, k=1) + np.diag(off_diag, k=-1)\n",
    "    matrix2 = np.eye(n + 1)\n",
    "\n",
    "    A = factor1 * matrix1 + factor2 * matrix2\n",
    "    A[0, 1] = -2 # Neumann boundary condition at y=0\n",
    "    return A\n",
    "\n",
    "def create_r(*, n: int = n):\n",
    "    r = np.zeros(n + 1) # r is a constant as it does not depend on x\n",
    "    #TODO: klopt dit?\n",
    "    r[-1] = 1 / dy**2 # Dirichlet boundary condition at y=1\n",
    "    return r\n",
    "\n",
    "def create_u_0(*, n: int = n):\n",
    "    u_0 = np.zeros(n + 1) # Dirichlet boundary condition at x=0\n",
    "    u_0[-1] = 1 # Dirichlet boundary condition at y=1\n",
    "    # TODO: wel of niet 1 gebruiken?\n",
    "    return u_0\n",
    "\n",
    "A = create_matrix_A()\n",
    "r = create_r()\n",
    "u_0 = create_u_0()\n",
    "\n",
    "\n",
    "\n",
    "\n",
    "\n",
    "\n",
    "\n",
    "def theta_method(\n",
    "    *,\n",
    "    c_n: NDArray[np.float64],\n",
    "    A: NDArray[np.float64] = A,\n",
    "    r: NDArray[np.float64] = r,\n",
    "    dx: float = dx,\n",
    "    theta: float = theta\n",
    "):\n",
    "    c_next = np.linalg.solve()\n",
    "    return c_next\n",
    "\n",
    "\n",
    "for n in n_lst:\n",
    "    c = np.zeros(n_y) \n",
    "    for _ in range(n):\n",
    "        c = theta_method(c, A, r, tau, theta)\n",
    "    solutions.append(c.copy())\n",
    "    alpha = (3*c[-1] - 4*c[-2] + c[-3]) / (2*dy)  # Second-order backward difference\n",
    "    alphas.append(alpha)\n",
    "    \n",
    "# Plotting\n",
    "plt.figure(figsize=(10, 6))\n",
    "for i, solution in enumerate(solutions):\n",
    "    plt.plot(y, solution, label=f'x = {n_lst[i] * tau:.2f}')\n",
    "plt.xlabel('y')\n",
    "plt.ylabel('c (y)')\n",
    "plt.title('Numerical Solution of c(y) at different times')\n",
    "plt.legend()\n",
    "plt.grid(True)\n",
    "\n",
    "plt.xlim(0, 2)\n",
    "plt.ylim(0, max([max(sol) for sol in solutions] + [1])+1)\n",
    "\n",
    "plt.show()"
   ]
  }
 ],
 "metadata": {
  "kernelspec": {
   "display_name": ".venv",
   "language": "python",
   "name": "python3"
  },
  "language_info": {
   "codemirror_mode": {
    "name": "ipython",
    "version": 3
   },
   "file_extension": ".py",
   "mimetype": "text/x-python",
   "name": "python",
   "nbconvert_exporter": "python",
   "pygments_lexer": "ipython3",
   "version": "3.12.3"
  }
 },
 "nbformat": 4,
 "nbformat_minor": 2
}
